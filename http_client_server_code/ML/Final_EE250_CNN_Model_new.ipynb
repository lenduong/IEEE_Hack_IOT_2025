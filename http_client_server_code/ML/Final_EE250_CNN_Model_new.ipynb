{
  "cells": [
    {
      "cell_type": "markdown",
      "source": [
        "# CNN Model: Reading Hand Number Digits"
      ],
      "metadata": {
        "id": "k7Gw9Vue7HwR"
      },
      "id": "k7Gw9Vue7HwR"
    },
    {
      "cell_type": "markdown",
      "source": [
        "# 1. Data Preparation"
      ],
      "metadata": {
        "id": "ourTpcim7N95"
      },
      "id": "ourTpcim7N95"
    },
    {
      "cell_type": "code",
      "execution_count": 3,
      "id": "53ba1915-2f75-428e-901d-211259ae2b5e",
      "metadata": {
        "id": "53ba1915-2f75-428e-901d-211259ae2b5e"
      },
      "outputs": [],
      "source": [
        "# Make the relevant imports\n",
        "import os\n",
        "os.environ[\"TF_CPP_MIN_LOG_LEVEL\"] = \"2\" # suppress info and warning messages\n",
        "from sklearn.model_selection import train_test_split\n",
        "import tensorflow.keras as keras\n",
        "import math\n",
        "import time\n",
        "import numpy as np\n",
        "import seaborn as sns\n",
        "import matplotlib.pyplot as plt\n",
        "%matplotlib inline"
      ]
    },
    {
      "cell_type": "code",
      "execution_count": 5,
      "id": "19a420c1-599f-4cfc-ab93-5d0dd9bb10f4",
      "metadata": {
        "colab": {
          "base_uri": "https://localhost:8080/"
        },
        "id": "19a420c1-599f-4cfc-ab93-5d0dd9bb10f4",
        "outputId": "4d832798-4d8f-457d-a2fe-cec38664bb8a"
      },
      "outputs": [
        {
          "output_type": "stream",
          "name": "stdout",
          "text": [
            "Requirement already satisfied: kagglehub in /usr/local/lib/python3.10/dist-packages (0.3.4)\n",
            "Requirement already satisfied: packaging in /usr/local/lib/python3.10/dist-packages (from kagglehub) (24.2)\n",
            "Requirement already satisfied: requests in /usr/local/lib/python3.10/dist-packages (from kagglehub) (2.32.3)\n",
            "Requirement already satisfied: tqdm in /usr/local/lib/python3.10/dist-packages (from kagglehub) (4.66.6)\n",
            "Requirement already satisfied: charset-normalizer<4,>=2 in /usr/local/lib/python3.10/dist-packages (from requests->kagglehub) (3.4.0)\n",
            "Requirement already satisfied: idna<4,>=2.5 in /usr/local/lib/python3.10/dist-packages (from requests->kagglehub) (3.10)\n",
            "Requirement already satisfied: urllib3<3,>=1.21.1 in /usr/local/lib/python3.10/dist-packages (from requests->kagglehub) (2.2.3)\n",
            "Requirement already satisfied: certifi>=2017.4.17 in /usr/local/lib/python3.10/dist-packages (from requests->kagglehub) (2024.8.30)\n",
            "Path to dataset files: /root/.cache/kagglehub/datasets/roshea6/finger-digits-05/versions/1\n"
          ]
        }
      ],
      "source": [
        "!pip install kagglehub\n",
        "import kagglehub # Import to download the dataset to Google Colab\n",
        "\n",
        "# Download latest version of the dataset directly from Kaggle\n",
        "path = kagglehub.dataset_download(\"roshea6/finger-digits-05\")\n",
        "\n",
        "print(\"Path to dataset files:\", path)"
      ]
    },
    {
      "cell_type": "code",
      "execution_count": 7,
      "id": "f058932c-3593-4b4f-b4d0-7e086f3a5873",
      "metadata": {
        "colab": {
          "base_uri": "https://localhost:8080/"
        },
        "id": "f058932c-3593-4b4f-b4d0-7e086f3a5873",
        "outputId": "7d8d9d34-fe4c-4a02-b6ea-f90a0892c74f"
      },
      "outputs": [
        {
          "output_type": "execute_result",
          "data": {
            "text/plain": [
              "['72_5.png', '1883_0.png', '1130_0.png', '633_1.png', '980_3.png']"
            ]
          },
          "metadata": {},
          "execution_count": 7
        }
      ],
      "source": [
        "# Get kaggle data\n",
        "os.chdir(path + '/training_images (copy)')\n",
        "os.listdir()[0:5] # Confirm that we have downloaded the png images"
      ]
    },
    {
      "cell_type": "code",
      "execution_count": 8,
      "id": "823e692a-5c23-4d41-82d0-b160cea45b4e",
      "metadata": {
        "id": "823e692a-5c23-4d41-82d0-b160cea45b4e"
      },
      "outputs": [],
      "source": [
        "# Confirm the files in the directory are images and add it to the image_paths list\n",
        "image_paths = [f for f in os.listdir() if f.endswith(('.jpg', '.jpeg', '.png', '.gif'))]\n",
        "from PIL import Image\n",
        "\n",
        "# Using image_paths list, open and add the actual images to a NumPy array\n",
        "images=[]\n",
        "for image_file in image_paths:\n",
        "    with Image.open(image_file) as image:\n",
        "        images.append(np.array(image))"
      ]
    },
    {
      "cell_type": "code",
      "execution_count": 9,
      "id": "702eb8a6-7723-4fb4-8c40-8e21bf210196",
      "metadata": {
        "colab": {
          "base_uri": "https://localhost:8080/",
          "height": 452
        },
        "id": "702eb8a6-7723-4fb4-8c40-8e21bf210196",
        "outputId": "aa86a241-a31a-4014-e94d-66eade267e8a"
      },
      "outputs": [
        {
          "output_type": "execute_result",
          "data": {
            "text/plain": [
              "<matplotlib.image.AxesImage at 0x7caaabfda560>"
            ]
          },
          "metadata": {},
          "execution_count": 9
        },
        {
          "output_type": "display_data",
          "data": {
            "text/plain": [
              "<Figure size 640x480 with 1 Axes>"
            ],
            "image/png": "[encoded data removed]"
          },
          "metadata": {}
        }
      ],
      "source": [
        "# Confirm that the images are correct\n",
        "plt.imshow(images[10],cmap='gray')"
      ]
    },
    {
      "cell_type": "code",
      "execution_count": 10,
      "id": "da5fc10b-8947-49e4-b6fe-34ded8db071c",
      "metadata": {
        "colab": {
          "base_uri": "https://localhost:8080/"
        },
        "id": "da5fc10b-8947-49e4-b6fe-34ded8db071c",
        "outputId": "07e80b1d-62c1-4ff1-967e-df0a6dc68733"
      },
      "outputs": [
        {
          "output_type": "stream",
          "name": "stdout",
          "text": [
            "(12006, 128, 128, 1)\n",
            "(12006,)\n"
          ]
        }
      ],
      "source": [
        "# Get data and store the images in X and Y in the correct format\n",
        "X=np.array(images)\n",
        "X = X.reshape(-1, 128, 128, 1)\n",
        "Y=[int(image_paths[i].split('_')[1].split('.')[0]) for i in range(len(X))]\n",
        "Y=np.array(Y)\n",
        "\n",
        "# Inspect the data\n",
        "print(X.shape)\n",
        "print(Y.shape)"
      ]
    },
    {
      "cell_type": "code",
      "execution_count": 14,
      "id": "ac1fb3e8-763c-465d-9b32-391fe8151dd1",
      "metadata": {
        "colab": {
          "base_uri": "https://localhost:8080/"
        },
        "id": "ac1fb3e8-763c-465d-9b32-391fe8151dd1",
        "outputId": "ca4d2519-19af-4a8d-c220-e3fffb10b1b2"
      },
      "outputs": [
        {
          "output_type": "stream",
          "name": "stdout",
          "text": [
            "(9604, 128, 128, 1)\n",
            "(9604,)\n",
            "(2402, 128, 128, 1)\n",
            "(2402,)\n"
          ]
        }
      ],
      "source": [
        "# Split the data into training, testing and validation subsets\n",
        "X_train,X_test,y_train,y_test = train_test_split(X,Y,test_size=0.2,random_state=404)\n",
        "\n",
        "# Inspect the data\n",
        "print(X_train.shape)\n",
        "print(y_train.shape)\n",
        "print(X_test.shape)\n",
        "print(y_test.shape)"
      ]
    },
    {
      "cell_type": "code",
      "execution_count": 15,
      "id": "dfed8962-673d-4632-b112-3abd78114a92",
      "metadata": {
        "id": "dfed8962-673d-4632-b112-3abd78114a92"
      },
      "outputs": [],
      "source": [
        "# Normalize the data to be values in between 0 and 1\n",
        "X_train = X_train/255.0\n",
        "X_test = X_test/255.0"
      ]
    },
    {
      "cell_type": "markdown",
      "source": [
        "# 2. Training and Testing the Model"
      ],
      "metadata": {
        "id": "ejlsj1EU7Tmx"
      },
      "id": "ejlsj1EU7Tmx"
    },
    {
      "cell_type": "code",
      "execution_count": 16,
      "id": "34274172-144c-4d78-9099-5231075e3b44",
      "metadata": {
        "colab": {
          "base_uri": "https://localhost:8080/",
          "height": 482
        },
        "id": "34274172-144c-4d78-9099-5231075e3b44",
        "outputId": "8666b038-befa-4b1a-b704-7035164fbac3"
      },
      "outputs": [
        {
          "output_type": "stream",
          "name": "stderr",
          "text": [
            "/usr/local/lib/python3.10/dist-packages/keras/src/layers/convolutional/base_conv.py:107: UserWarning: Do not pass an `input_shape`/`input_dim` argument to a layer. When using Sequential models, prefer using an `Input(shape)` object as the first layer in the model instead.\n",
            "  super().__init__(activity_regularizer=activity_regularizer, **kwargs)\n"
          ]
        },
        {
          "output_type": "display_data",
          "data": {
            "text/plain": [
              "\u001b[1mModel: \"sequential\"\u001b[0m\n"
            ],
            "text/html": [
              "<pre style=\"white-space:pre;overflow-x:auto;line-height:normal;font-family:Menlo,'DejaVu Sans Mono',consolas,'Courier New',monospace\"><span style=\"font-weight: bold\">Model: \"sequential\"</span>\n",
              "</pre>\n"
            ]
          },
          "metadata": {}
        },
        {
          "output_type": "display_data",
          "data": {
            "text/plain": [
              "┏━━━━━━━━━━━━━━━━━━━━━━━━━━━━━━━━━━━━━━┳━━━━━━━━━━━━━━━━━━━━━━━━━━━━━┳━━━━━━━━━━━━━━━━━┓\n",
              "┃\u001b[1m \u001b[0m\u001b[1mLayer (type)                        \u001b[0m\u001b[1m \u001b[0m┃\u001b[1m \u001b[0m\u001b[1mOutput Shape               \u001b[0m\u001b[1m \u001b[0m┃\u001b[1m \u001b[0m\u001b[1m        Param #\u001b[0m\u001b[1m \u001b[0m┃\n",
              "┡━━━━━━━━━━━━━━━━━━━━━━━━━━━━━━━━━━━━━━╇━━━━━━━━━━━━━━━━━━━━━━━━━━━━━╇━━━━━━━━━━━━━━━━━┩\n",
              "│ conv2d (\u001b[38;5;33mConv2D\u001b[0m)                      │ (\u001b[38;5;45mNone\u001b[0m, \u001b[38;5;34m126\u001b[0m, \u001b[38;5;34m126\u001b[0m, \u001b[38;5;34m10\u001b[0m)        │             \u001b[38;5;34m100\u001b[0m │\n",
              "├──────────────────────────────────────┼─────────────────────────────┼─────────────────┤\n",
              "│ re_lu (\u001b[38;5;33mReLU\u001b[0m)                         │ (\u001b[38;5;45mNone\u001b[0m, \u001b[38;5;34m126\u001b[0m, \u001b[38;5;34m126\u001b[0m, \u001b[38;5;34m10\u001b[0m)        │               \u001b[38;5;34m0\u001b[0m │\n",
              "├──────────────────────────────────────┼─────────────────────────────┼─────────────────┤\n",
              "│ max_pooling2d (\u001b[38;5;33mMaxPooling2D\u001b[0m)         │ (\u001b[38;5;45mNone\u001b[0m, \u001b[38;5;34m63\u001b[0m, \u001b[38;5;34m63\u001b[0m, \u001b[38;5;34m10\u001b[0m)          │               \u001b[38;5;34m0\u001b[0m │\n",
              "├──────────────────────────────────────┼─────────────────────────────┼─────────────────┤\n",
              "│ conv2d_1 (\u001b[38;5;33mConv2D\u001b[0m)                    │ (\u001b[38;5;45mNone\u001b[0m, \u001b[38;5;34m61\u001b[0m, \u001b[38;5;34m61\u001b[0m, \u001b[38;5;34m10\u001b[0m)          │             \u001b[38;5;34m910\u001b[0m │\n",
              "├──────────────────────────────────────┼─────────────────────────────┼─────────────────┤\n",
              "│ re_lu_1 (\u001b[38;5;33mReLU\u001b[0m)                       │ (\u001b[38;5;45mNone\u001b[0m, \u001b[38;5;34m61\u001b[0m, \u001b[38;5;34m61\u001b[0m, \u001b[38;5;34m10\u001b[0m)          │               \u001b[38;5;34m0\u001b[0m │\n",
              "├──────────────────────────────────────┼─────────────────────────────┼─────────────────┤\n",
              "│ max_pooling2d_1 (\u001b[38;5;33mMaxPooling2D\u001b[0m)       │ (\u001b[38;5;45mNone\u001b[0m, \u001b[38;5;34m30\u001b[0m, \u001b[38;5;34m30\u001b[0m, \u001b[38;5;34m10\u001b[0m)          │               \u001b[38;5;34m0\u001b[0m │\n",
              "├──────────────────────────────────────┼─────────────────────────────┼─────────────────┤\n",
              "│ flatten (\u001b[38;5;33mFlatten\u001b[0m)                    │ (\u001b[38;5;45mNone\u001b[0m, \u001b[38;5;34m9000\u001b[0m)                │               \u001b[38;5;34m0\u001b[0m │\n",
              "├──────────────────────────────────────┼─────────────────────────────┼─────────────────┤\n",
              "│ dense (\u001b[38;5;33mDense\u001b[0m)                        │ (\u001b[38;5;45mNone\u001b[0m, \u001b[38;5;34m128\u001b[0m)                 │       \u001b[38;5;34m1,152,128\u001b[0m │\n",
              "├──────────────────────────────────────┼─────────────────────────────┼─────────────────┤\n",
              "│ dense_1 (\u001b[38;5;33mDense\u001b[0m)                      │ (\u001b[38;5;45mNone\u001b[0m, \u001b[38;5;34m6\u001b[0m)                   │             \u001b[38;5;34m774\u001b[0m │\n",
              "└──────────────────────────────────────┴─────────────────────────────┴─────────────────┘\n"
            ],
            "text/html": [
              "<pre style=\"white-space:pre;overflow-x:auto;line-height:normal;font-family:Menlo,'DejaVu Sans Mono',consolas,'Courier New',monospace\">┏━━━━━━━━━━━━━━━━━━━━━━━━━━━━━━━━━━━━━━┳━━━━━━━━━━━━━━━━━━━━━━━━━━━━━┳━━━━━━━━━━━━━━━━━┓\n",
              "┃<span style=\"font-weight: bold\"> Layer (type)                         </span>┃<span style=\"font-weight: bold\"> Output Shape                </span>┃<span style=\"font-weight: bold\">         Param # </span>┃\n",
              "┡━━━━━━━━━━━━━━━━━━━━━━━━━━━━━━━━━━━━━━╇━━━━━━━━━━━━━━━━━━━━━━━━━━━━━╇━━━━━━━━━━━━━━━━━┩\n",
              "│ conv2d (<span style=\"color: #0087ff; text-decoration-color: #0087ff\">Conv2D</span>)                      │ (<span style=\"color: #00d7ff; text-decoration-color: #00d7ff\">None</span>, <span style=\"color: #00af00; text-decoration-color: #00af00\">126</span>, <span style=\"color: #00af00; text-decoration-color: #00af00\">126</span>, <span style=\"color: #00af00; text-decoration-color: #00af00\">10</span>)        │             <span style=\"color: #00af00; text-decoration-color: #00af00\">100</span> │\n",
              "├──────────────────────────────────────┼─────────────────────────────┼─────────────────┤\n",
              "│ re_lu (<span style=\"color: #0087ff; text-decoration-color: #0087ff\">ReLU</span>)                         │ (<span style=\"color: #00d7ff; text-decoration-color: #00d7ff\">None</span>, <span style=\"color: #00af00; text-decoration-color: #00af00\">126</span>, <span style=\"color: #00af00; text-decoration-color: #00af00\">126</span>, <span style=\"color: #00af00; text-decoration-color: #00af00\">10</span>)        │               <span style=\"color: #00af00; text-decoration-color: #00af00\">0</span> │\n",
              "├──────────────────────────────────────┼─────────────────────────────┼─────────────────┤\n",
              "│ max_pooling2d (<span style=\"color: #0087ff; text-decoration-color: #0087ff\">MaxPooling2D</span>)         │ (<span style=\"color: #00d7ff; text-decoration-color: #00d7ff\">None</span>, <span style=\"color: #00af00; text-decoration-color: #00af00\">63</span>, <span style=\"color: #00af00; text-decoration-color: #00af00\">63</span>, <span style=\"color: #00af00; text-decoration-color: #00af00\">10</span>)          │               <span style=\"color: #00af00; text-decoration-color: #00af00\">0</span> │\n",
              "├──────────────────────────────────────┼─────────────────────────────┼─────────────────┤\n",
              "│ conv2d_1 (<span style=\"color: #0087ff; text-decoration-color: #0087ff\">Conv2D</span>)                    │ (<span style=\"color: #00d7ff; text-decoration-color: #00d7ff\">None</span>, <span style=\"color: #00af00; text-decoration-color: #00af00\">61</span>, <span style=\"color: #00af00; text-decoration-color: #00af00\">61</span>, <span style=\"color: #00af00; text-decoration-color: #00af00\">10</span>)          │             <span style=\"color: #00af00; text-decoration-color: #00af00\">910</span> │\n",
              "├──────────────────────────────────────┼─────────────────────────────┼─────────────────┤\n",
              "│ re_lu_1 (<span style=\"color: #0087ff; text-decoration-color: #0087ff\">ReLU</span>)                       │ (<span style=\"color: #00d7ff; text-decoration-color: #00d7ff\">None</span>, <span style=\"color: #00af00; text-decoration-color: #00af00\">61</span>, <span style=\"color: #00af00; text-decoration-color: #00af00\">61</span>, <span style=\"color: #00af00; text-decoration-color: #00af00\">10</span>)          │               <span style=\"color: #00af00; text-decoration-color: #00af00\">0</span> │\n",
              "├──────────────────────────────────────┼─────────────────────────────┼─────────────────┤\n",
              "│ max_pooling2d_1 (<span style=\"color: #0087ff; text-decoration-color: #0087ff\">MaxPooling2D</span>)       │ (<span style=\"color: #00d7ff; text-decoration-color: #00d7ff\">None</span>, <span style=\"color: #00af00; text-decoration-color: #00af00\">30</span>, <span style=\"color: #00af00; text-decoration-color: #00af00\">30</span>, <span style=\"color: #00af00; text-decoration-color: #00af00\">10</span>)          │               <span style=\"color: #00af00; text-decoration-color: #00af00\">0</span> │\n",
              "├──────────────────────────────────────┼─────────────────────────────┼─────────────────┤\n",
              "│ flatten (<span style=\"color: #0087ff; text-decoration-color: #0087ff\">Flatten</span>)                    │ (<span style=\"color: #00d7ff; text-decoration-color: #00d7ff\">None</span>, <span style=\"color: #00af00; text-decoration-color: #00af00\">9000</span>)                │               <span style=\"color: #00af00; text-decoration-color: #00af00\">0</span> │\n",
              "├──────────────────────────────────────┼─────────────────────────────┼─────────────────┤\n",
              "│ dense (<span style=\"color: #0087ff; text-decoration-color: #0087ff\">Dense</span>)                        │ (<span style=\"color: #00d7ff; text-decoration-color: #00d7ff\">None</span>, <span style=\"color: #00af00; text-decoration-color: #00af00\">128</span>)                 │       <span style=\"color: #00af00; text-decoration-color: #00af00\">1,152,128</span> │\n",
              "├──────────────────────────────────────┼─────────────────────────────┼─────────────────┤\n",
              "│ dense_1 (<span style=\"color: #0087ff; text-decoration-color: #0087ff\">Dense</span>)                      │ (<span style=\"color: #00d7ff; text-decoration-color: #00d7ff\">None</span>, <span style=\"color: #00af00; text-decoration-color: #00af00\">6</span>)                   │             <span style=\"color: #00af00; text-decoration-color: #00af00\">774</span> │\n",
              "└──────────────────────────────────────┴─────────────────────────────┴─────────────────┘\n",
              "</pre>\n"
            ]
          },
          "metadata": {}
        },
        {
          "output_type": "display_data",
          "data": {
            "text/plain": [
              "\u001b[1m Total params: \u001b[0m\u001b[38;5;34m1,153,912\u001b[0m (4.40 MB)\n"
            ],
            "text/html": [
              "<pre style=\"white-space:pre;overflow-x:auto;line-height:normal;font-family:Menlo,'DejaVu Sans Mono',consolas,'Courier New',monospace\"><span style=\"font-weight: bold\"> Total params: </span><span style=\"color: #00af00; text-decoration-color: #00af00\">1,153,912</span> (4.40 MB)\n",
              "</pre>\n"
            ]
          },
          "metadata": {}
        },
        {
          "output_type": "display_data",
          "data": {
            "text/plain": [
              "\u001b[1m Trainable params: \u001b[0m\u001b[38;5;34m1,153,912\u001b[0m (4.40 MB)\n"
            ],
            "text/html": [
              "<pre style=\"white-space:pre;overflow-x:auto;line-height:normal;font-family:Menlo,'DejaVu Sans Mono',consolas,'Courier New',monospace\"><span style=\"font-weight: bold\"> Trainable params: </span><span style=\"color: #00af00; text-decoration-color: #00af00\">1,153,912</span> (4.40 MB)\n",
              "</pre>\n"
            ]
          },
          "metadata": {}
        },
        {
          "output_type": "display_data",
          "data": {
            "text/plain": [
              "\u001b[1m Non-trainable params: \u001b[0m\u001b[38;5;34m0\u001b[0m (0.00 B)\n"
            ],
            "text/html": [
              "<pre style=\"white-space:pre;overflow-x:auto;line-height:normal;font-family:Menlo,'DejaVu Sans Mono',consolas,'Courier New',monospace\"><span style=\"font-weight: bold\"> Non-trainable params: </span><span style=\"color: #00af00; text-decoration-color: #00af00\">0</span> (0.00 B)\n",
              "</pre>\n"
            ]
          },
          "metadata": {}
        }
      ],
      "source": [
        "# Create CNN model object\n",
        "cnn_model = keras.Sequential()\n",
        "\n",
        "# Create the first convolutional layer and add it to the model object, with ReLU activation\n",
        "conv_1 = keras.layers.Conv2D(input_shape=X_train[0].shape, filters=10, kernel_size=(3, 3))\n",
        "ReLU_1 = keras.layers.ReLU()\n",
        "cnn_model.add(conv_1)\n",
        "cnn_model.add(ReLU_1)\n",
        "\n",
        "# Create the pooling layer and add it to the model object:\n",
        "pooling_layer_1 = keras.layers.MaxPooling2D(pool_size=(2,2))\n",
        "cnn_model.add(pooling_layer_1)\n",
        "\n",
        "# Create the second convolutional layer and add it to the model object, with ReLU activation\n",
        "conv_2 = keras.layers.Conv2D(filters=10, kernel_size=(3,3))\n",
        "ReLU_2 = keras.layers.ReLU()\n",
        "cnn_model.add(conv_2)\n",
        "cnn_model.add(ReLU_2)\n",
        "\n",
        "# Create the second pooling layer and add it to the model object\n",
        "pooling_layer_2 = keras.layers.MaxPooling2D(pool_size=(2,2))\n",
        "cnn_model.add(pooling_layer_2)\n",
        "\n",
        "# Add a flatten layer to reduce the high number of parameters\n",
        "flatten_layer = keras.layers.Flatten()\n",
        "cnn_model.add(flatten_layer)\n",
        "\n",
        "# Add a dense layer with 128 units\n",
        "dense_layer = keras.layers.Dense(units=128, activation='relu')\n",
        "cnn_model.add(dense_layer)\n",
        "\n",
        "# Create the output layer and add it to the model object:\n",
        "output_layer = keras.layers.Dense(units=6, activation='softmax')\n",
        "cnn_model.add(output_layer)\n",
        "\n",
        "# See the model summary\n",
        "cnn_model.summary()\n"
      ]
    },
    {
      "cell_type": "code",
      "execution_count": 17,
      "id": "aba8b960-c614-41f9-978d-a991eef6f58c",
      "metadata": {
        "colab": {
          "base_uri": "https://localhost:8080/"
        },
        "id": "aba8b960-c614-41f9-978d-a991eef6f58c",
        "outputId": "b5995b2e-f598-43c1-9537-30f096f0873a"
      },
      "outputs": [
        {
          "output_type": "stream",
          "name": "stdout",
          "text": [
            "Epoch 1/2\n",
            "\u001b[1m376/376\u001b[0m \u001b[32m━━━━━━━━━━━━━━━━━━━━\u001b[0m\u001b[37m\u001b[0m \u001b[1m118s\u001b[0m 308ms/step - accuracy: 0.9157 - loss: 3.3182 - val_accuracy: 1.0000 - val_loss: 1.6452\n",
            "Epoch 2/2\n",
            "\u001b[1m376/376\u001b[0m \u001b[32m━━━━━━━━━━━━━━━━━━━━\u001b[0m\u001b[37m\u001b[0m \u001b[1m117s\u001b[0m 311ms/step - accuracy: 1.0000 - loss: 5.4107e-05 - val_accuracy: 1.0000 - val_loss: 1.6425\n"
          ]
        },
        {
          "output_type": "execute_result",
          "data": {
            "text/plain": [
              "<keras.src.callbacks.history.History at 0x7caaac07beb0>"
            ]
          },
          "metadata": {},
          "execution_count": 17
        }
      ],
      "source": [
        "# Compile and fit the model with the adam optimizer, providing the validation data\n",
        "cnn_model.compile(loss='sparse_categorical_crossentropy',optimizer='adam',metrics=['accuracy'])\n",
        "cnn_model.fit(X,Y,batch_size=32,epochs=2,validation_data=(X_test,y_test))"
      ]
    },
    {
      "cell_type": "markdown",
      "source": [
        "# 3. Saving the Trained Model"
      ],
      "metadata": {
        "id": "xy7wKc3K7Z_o"
      },
      "id": "xy7wKc3K7Z_o"
    },
    {
      "cell_type": "code",
      "execution_count": 18,
      "id": "9c525338-4c39-4482-a52b-046bf480733b",
      "metadata": {
        "colab": {
          "base_uri": "https://localhost:8080/"
        },
        "id": "9c525338-4c39-4482-a52b-046bf480733b",
        "outputId": "50754309-7d2c-4b48-8e0e-2330b02d3dc8"
      },
      "outputs": [
        {
          "output_type": "stream",
          "name": "stderr",
          "text": [
            "WARNING:absl:You are saving your model as an HDF5 file via `model.save()` or `keras.saving.save_model(model)`. This file format is considered legacy. We recommend using instead the native Keras format, e.g. `model.save('my_model.keras')` or `keras.saving.save_model(model, 'my_model.keras')`. \n"
          ]
        },
        {
          "output_type": "stream",
          "name": "stdout",
          "text": [
            "/content/sample_data\n"
          ]
        }
      ],
      "source": [
        "# Save the model in a hdf5 file in Google Colab with the correct path\n",
        "os.chdir('/content/sample_data')\n",
        "cnn_model.save('handNums_model-1104.h5')\n",
        "\n",
        "# Confirm the director the hdf5 file was saved in\n",
        "print(os.getcwd())"
      ]
    },
    {
      "cell_type": "code",
      "source": [
        "# Load the saved model from the hdf5 file and test it on test data\n",
        "loaded_model = keras.models.load_model('handNums_model-1104.h5')\n",
        "\n",
        "# Test the loaded model on the test data to ensure no corruption or changes occurred\n",
        "loss, acc = loaded_model.evaluate(X_test, y_test)\n",
        "print(\"Accuracy of Loaded Model = \")\n",
        "print(acc)"
      ],
      "metadata": {
        "colab": {
          "base_uri": "https://localhost:8080/"
        },
        "id": "ejPCOqD7J57i",
        "outputId": "f043ecd7-fa1e-4567-aa38-18fab5c4b577"
      },
      "id": "ejPCOqD7J57i",
      "execution_count": null,
      "outputs": [
        {
          "output_type": "stream",
          "name": "stderr",
          "text": [
            "WARNING:absl:Compiled the loaded model, but the compiled metrics have yet to be built. `model.compile_metrics` will be empty until you train or evaluate the model.\n"
          ]
        },
        {
          "output_type": "stream",
          "name": "stdout",
          "text": [
            "\u001b[1m76/76\u001b[0m \u001b[32m━━━━━━━━━━━━━━━━━━━━\u001b[0m\u001b[37m\u001b[0m \u001b[1m7s\u001b[0m 83ms/step - accuracy: 0.9989 - loss: 1.6594\n",
            "Accuracy of Loaded Model = \n",
            "0.9991673827171326\n"
          ]
        }
      ]
    },
    {
      "cell_type": "markdown",
      "source": [
        "# 4. Deploying using a single function"
      ],
      "metadata": {
        "id": "UIAzyT1Hc1r3"
      },
      "id": "UIAzyT1Hc1r3"
    },
    {
      "cell_type": "code",
      "source": [
        "# Load the trained model\n",
        "loaded_model = keras.models.load_model('handNums_model-1104.h5')"
      ],
      "metadata": {
        "colab": {
          "base_uri": "https://localhost:8080/"
        },
        "id": "ONYwh9YBc371",
        "outputId": "708bba1d-bb8c-4fe8-db73-eb089b045b1e"
      },
      "id": "ONYwh9YBc371",
      "execution_count": null,
      "outputs": [
        {
          "output_type": "stream",
          "name": "stderr",
          "text": [
            "WARNING:absl:Compiled the loaded model, but the compiled metrics have yet to be built. `model.compile_metrics` will be empty until you train or evaluate the model.\n"
          ]
        }
      ]
    },
    {
      "cell_type": "code",
      "source": [
        "# Define image pre-processing in a function to ensure uniform inputs\n",
        "# This function only takes a single image path and returns the image data as a\n",
        "# NumPy array\n",
        "def image_preprocessor(image_path):\n",
        "  img = Image.open(image_path).convert('L') # Open the image\n",
        "  img = img.resize(size=(128, 128)) # Resize the image\n",
        "  img_array = (np.array(img) > 100)*255  # Convert to a numpy array\n",
        "\n",
        "  plt.imshow(img_array) # Show the input to ensure the correct image\n",
        "\n",
        "  img_array = img_array / 255.0  # Normalize pixel values to [0, 1]\n",
        "  img_array = img_array.reshape(1, 128, 128, 1)  # Reshape for model input\n",
        "                # Parameters: (batch_size, image dimension, single channel grayscale)\n",
        "\n",
        "  return img_array\n",
        "## End of pre-processing"
      ],
      "metadata": {
        "colab": {
          "base_uri": "https://localhost:8080/",
          "height": 488
        },
        "id": "y1blfDLUdmfV",
        "outputId": "5986b7a3-dbfd-4dde-edb6-845f3337907f"
      },
      "id": "y1blfDLUdmfV",
      "execution_count": null,
      "outputs": [
        {
          "output_type": "stream",
          "name": "stdout",
          "text": [
            "Model Prediction: \n",
            "4\n",
            "LED ON\n"
          ]
        },
        {
          "output_type": "display_data",
          "data": {
            "text/plain": [
              "<Figure size 640x480 with 1 Axes>"
            ],
            "image/png": "[encoded data removed]"
          },
          "metadata": {}
        }
      ]
    },
    {
      "cell_type": "code",
      "source": [
        "img_array = image_preprocessor('1003_4.png') # Load and pre-process the test single test image\n",
        "prediction = loaded_model(img_array) # use a direct call for small input size\n",
        "predict_value = np.argmax(prediction) # Find the index with the largest\n",
        "                  # probability to translate the values into hand number digits\n",
        "\n",
        "# Print prediction\n",
        "print(\"Model Prediction: \")\n",
        "print(predict_value)\n",
        "\n",
        "# Take the model output and convert it to be ON or OFF for LEDs\n",
        "if predict_value % 2 == 0: # Turn on if even number detected\n",
        "  print(\"LED ON\")\n",
        "else: # Turn off if odd number detected\n",
        "  print(\"LED OFF\")"
      ],
      "metadata": {
        "id": "gHHAjK6e7ytj"
      },
      "id": "gHHAjK6e7ytj",
      "execution_count": null,
      "outputs": []
    }
  ],
  "metadata": {
    "kernelspec": {
      "display_name": "Python 3 (ipykernel)",
      "language": "python",
      "name": "python3"
    },
    "language_info": {
      "codemirror_mode": {
        "name": "ipython",
        "version": 3
      },
      "file_extension": ".py",
      "mimetype": "text/x-python",
      "name": "python",
      "nbconvert_exporter": "python",
      "pygments_lexer": "ipython3",
      "version": "3.9.19"
    },
    "colab": {
      "provenance": []
    }
  },
  "nbformat": 4,
  "nbformat_minor": 5
}
